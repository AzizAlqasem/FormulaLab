{
 "cells": [
  {
   "cell_type": "code",
   "execution_count": 1,
   "metadata": {},
   "outputs": [],
   "source": [
    "import numpy as np\n",
    "import pandas as pd\n",
    "import sympy\n",
    "\n",
    "import FormulaLab as fl"
   ]
  },
  {
   "cell_type": "markdown",
   "metadata": {},
   "source": [
    "### FormulaLab* allows you to:\n",
    "\n",
    "#### 1. Search for formula(s) in two ways:\n",
    "\n",
    "    1. By direct search.\n",
    "            FormulaLab.FormulaSearch.get(function, [variables,])\n",
    "  \n",
    "    2. By going through the formulas database and algebraically solve for the desired formula \n",
    "            FormulaLab.FormulaSearch.find(function, variable)\n",
    "            \n",
    "#### 2. Convert symbolic (text) formulas into python functions, where you can subtitute numbers and evaluate.\n",
    "            FormulaLab.FormulaSearch.function(formula)\n",
    "            FormulaLab.FormulaSearch.get(function, [variables,], function=True)\n",
    "            \n",
    "#### 3. Retrieve stored formula from a database by its ID number, and use it anywhere in your code with any form.\n",
    "\n",
    "    FormulaLab gives you the comfort to store all of your formulas of different projects in one place (database) and \n",
    "    retrieve them with any form by caling them by their id, or by searching as above. For example, Say you stored the \n",
    "    following formula \"F = m * a\", with id number 1. And your code uses this formula in three different places/projects \n",
    "    with different forms: \"f=m*a\", \"m=f/a\", and \"a=F/m\". Instead of writing them explicitly three times in your code, you \n",
    "    just call them from the database as:\n",
    "            f = FormulaLab.FormulaSearch.get(function='f', id=1, function=True)  # first place\n",
    "            m = FormulaLab.FormulaSearch.get(function='m', id=1, function=True)  # second place\n",
    "            a = FormulaLab.FormulaSearch.get(function='a', id=1, function=True)  # third place\n",
    "            \n",
    "            \n",
    "\\* FormulaLab is bult upon [sympy](https://www.sympy.org/en/index.html)"
   ]
  },
  {
   "cell_type": "markdown",
   "metadata": {},
   "source": [
    "# Step 1: Importing Formulas from a Database"
   ]
  },
  {
   "cell_type": "markdown",
   "metadata": {},
   "source": [
    "### 1. Data from list, dict, tuple, or set\n",
    "    Yor data could be stored in list, dict, tuple, or set. However, it is recomeneded that you store your data in a file \n",
    "    (eg., excel file) and then import it by pandas as you will see soon."
   ]
  },
  {
   "cell_type": "code",
   "execution_count": 2,
   "metadata": {},
   "outputs": [
    {
     "data": {
      "text/plain": [
       "['f=m*a', 'a=v/t']"
      ]
     },
     "execution_count": 2,
     "metadata": {},
     "output_type": "execute_result"
    }
   ],
   "source": [
    "data_list = ['f=m*a','a=v/t']\n",
    "data_dict = {'1':'f=m*a','2':'a=v/t'}\n",
    "data_dict_2 = {'ID':[1, 2], 'Formula':['f=m*a','a=v/t']}\n",
    "data_tuple = ('f=m*a','a=v/t')\n",
    "data_set = {'f=m*a','a=v/t'}\n",
    "\n",
    "data_list"
   ]
  },
  {
   "cell_type": "markdown",
   "metadata": {},
   "source": [
    "### 2. Data from external Database, should be imported as a DataFrame\n",
    "    This is the recommended way of storing and loading formulas, and pandas is one of the best python packages that \n",
    "    can handle this"
   ]
  },
  {
   "cell_type": "code",
   "execution_count": 14,
   "metadata": {},
   "outputs": [
    {
     "data": {
      "text/html": [
       "<div>\n",
       "<style scoped>\n",
       "    .dataframe tbody tr th:only-of-type {\n",
       "        vertical-align: middle;\n",
       "    }\n",
       "\n",
       "    .dataframe tbody tr th {\n",
       "        vertical-align: top;\n",
       "    }\n",
       "\n",
       "    .dataframe thead th {\n",
       "        text-align: right;\n",
       "    }\n",
       "</style>\n",
       "<table border=\"1\" class=\"dataframe\">\n",
       "  <thead>\n",
       "    <tr style=\"text-align: right;\">\n",
       "      <th></th>\n",
       "      <th>ID</th>\n",
       "      <th>Formula</th>\n",
       "    </tr>\n",
       "  </thead>\n",
       "  <tbody>\n",
       "    <tr>\n",
       "      <th>0</th>\n",
       "      <td>1</td>\n",
       "      <td>d = v * t</td>\n",
       "    </tr>\n",
       "    <tr>\n",
       "      <th>1</th>\n",
       "      <td>2</td>\n",
       "      <td>a = v / t</td>\n",
       "    </tr>\n",
       "    <tr>\n",
       "      <th>2</th>\n",
       "      <td>3</td>\n",
       "      <td>f = m * a</td>\n",
       "    </tr>\n",
       "    <tr>\n",
       "      <th>3</th>\n",
       "      <td>5</td>\n",
       "      <td>p = m * v</td>\n",
       "    </tr>\n",
       "  </tbody>\n",
       "</table>\n",
       "</div>"
      ],
      "text/plain": [
       "   ID    Formula\n",
       "0   1  d = v * t\n",
       "1   2  a = v / t\n",
       "2   3  f = m * a\n",
       "3   5  p = m * v"
      ]
     },
     "execution_count": 14,
     "metadata": {},
     "output_type": "execute_result"
    }
   ],
   "source": [
    "df = pd.read_csv('Quick Database.csv')\n",
    "df"
   ]
  },
  {
   "cell_type": "markdown",
   "metadata": {},
   "source": [
    "# Step 2: Initiate the formula search engine"
   ]
  },
  {
   "cell_type": "code",
   "execution_count": 15,
   "metadata": {},
   "outputs": [
    {
     "data": {
      "text/html": [
       "<div>\n",
       "<style scoped>\n",
       "    .dataframe tbody tr th:only-of-type {\n",
       "        vertical-align: middle;\n",
       "    }\n",
       "\n",
       "    .dataframe tbody tr th {\n",
       "        vertical-align: top;\n",
       "    }\n",
       "\n",
       "    .dataframe thead th {\n",
       "        text-align: right;\n",
       "    }\n",
       "</style>\n",
       "<table border=\"1\" class=\"dataframe\">\n",
       "  <thead>\n",
       "    <tr style=\"text-align: right;\">\n",
       "      <th></th>\n",
       "      <th>ID</th>\n",
       "      <th>Formula</th>\n",
       "      <th>Args</th>\n",
       "    </tr>\n",
       "  </thead>\n",
       "  <tbody>\n",
       "    <tr>\n",
       "      <th>0</th>\n",
       "      <td>1</td>\n",
       "      <td>f=m*a</td>\n",
       "      <td>[f, m, a]</td>\n",
       "    </tr>\n",
       "    <tr>\n",
       "      <th>1</th>\n",
       "      <td>2</td>\n",
       "      <td>a=v/t</td>\n",
       "      <td>[a, v, t]</td>\n",
       "    </tr>\n",
       "  </tbody>\n",
       "</table>\n",
       "</div>"
      ],
      "text/plain": [
       "   ID Formula       Args\n",
       "0   1   f=m*a  [f, m, a]\n",
       "1   2   a=v/t  [a, v, t]"
      ]
     },
     "execution_count": 15,
     "metadata": {},
     "output_type": "execute_result"
    }
   ],
   "source": [
    "phyfos = fl.FormulaSearch(data=data_list) \n",
    "phyfos.data\n",
    "# The new \"Args\" column is automatically generated to help speed the search algorithm.  "
   ]
  },
  {
   "cell_type": "code",
   "execution_count": 16,
   "metadata": {},
   "outputs": [
    {
     "data": {
      "text/html": [
       "<div>\n",
       "<style scoped>\n",
       "    .dataframe tbody tr th:only-of-type {\n",
       "        vertical-align: middle;\n",
       "    }\n",
       "\n",
       "    .dataframe tbody tr th {\n",
       "        vertical-align: top;\n",
       "    }\n",
       "\n",
       "    .dataframe thead th {\n",
       "        text-align: right;\n",
       "    }\n",
       "</style>\n",
       "<table border=\"1\" class=\"dataframe\">\n",
       "  <thead>\n",
       "    <tr style=\"text-align: right;\">\n",
       "      <th></th>\n",
       "      <th>ID</th>\n",
       "      <th>Formula</th>\n",
       "      <th>Args</th>\n",
       "    </tr>\n",
       "  </thead>\n",
       "  <tbody>\n",
       "    <tr>\n",
       "      <th>0</th>\n",
       "      <td>1</td>\n",
       "      <td>f=m*a</td>\n",
       "      <td>[f, m, a]</td>\n",
       "    </tr>\n",
       "    <tr>\n",
       "      <th>1</th>\n",
       "      <td>2</td>\n",
       "      <td>a=v/t</td>\n",
       "      <td>[a, v, t]</td>\n",
       "    </tr>\n",
       "  </tbody>\n",
       "</table>\n",
       "</div>"
      ],
      "text/plain": [
       "  ID Formula       Args\n",
       "0  1   f=m*a  [f, m, a]\n",
       "1  2   a=v/t  [a, v, t]"
      ]
     },
     "execution_count": 16,
     "metadata": {},
     "output_type": "execute_result"
    }
   ],
   "source": [
    "phyfos = fl.FormulaSearch(data=data_dict) \n",
    "phyfos.data"
   ]
  },
  {
   "cell_type": "code",
   "execution_count": 17,
   "metadata": {},
   "outputs": [
    {
     "data": {
      "text/html": [
       "<div>\n",
       "<style scoped>\n",
       "    .dataframe tbody tr th:only-of-type {\n",
       "        vertical-align: middle;\n",
       "    }\n",
       "\n",
       "    .dataframe tbody tr th {\n",
       "        vertical-align: top;\n",
       "    }\n",
       "\n",
       "    .dataframe thead th {\n",
       "        text-align: right;\n",
       "    }\n",
       "</style>\n",
       "<table border=\"1\" class=\"dataframe\">\n",
       "  <thead>\n",
       "    <tr style=\"text-align: right;\">\n",
       "      <th></th>\n",
       "      <th>ID</th>\n",
       "      <th>Formula</th>\n",
       "      <th>Args</th>\n",
       "    </tr>\n",
       "  </thead>\n",
       "  <tbody>\n",
       "    <tr>\n",
       "      <th>0</th>\n",
       "      <td>1</td>\n",
       "      <td>d = v * t</td>\n",
       "      <td>[d, v, t]</td>\n",
       "    </tr>\n",
       "    <tr>\n",
       "      <th>1</th>\n",
       "      <td>2</td>\n",
       "      <td>a = v / t</td>\n",
       "      <td>[a, v, t]</td>\n",
       "    </tr>\n",
       "    <tr>\n",
       "      <th>2</th>\n",
       "      <td>3</td>\n",
       "      <td>f = m * a</td>\n",
       "      <td>[f, m, a]</td>\n",
       "    </tr>\n",
       "    <tr>\n",
       "      <th>3</th>\n",
       "      <td>5</td>\n",
       "      <td>p = m * v</td>\n",
       "      <td>[p, m, v]</td>\n",
       "    </tr>\n",
       "  </tbody>\n",
       "</table>\n",
       "</div>"
      ],
      "text/plain": [
       "   ID    Formula       Args\n",
       "0   1  d = v * t  [d, v, t]\n",
       "1   2  a = v / t  [a, v, t]\n",
       "2   3  f = m * a  [f, m, a]\n",
       "3   5  p = m * v  [p, m, v]"
      ]
     },
     "execution_count": 17,
     "metadata": {},
     "output_type": "execute_result"
    }
   ],
   "source": [
    "phyfos = fl.FormulaSearch(data=df, formula_col='Formula', id_col='ID') \n",
    "#formula_col and id_col values should mathch the formulas database\n",
    "phyfos.data"
   ]
  },
  {
   "cell_type": "markdown",
   "metadata": {},
   "source": [
    "# Step 3: Search for formula(s)"
   ]
  },
  {
   "cell_type": "markdown",
   "metadata": {},
   "source": [
    "### 1-  Direct search"
   ]
  },
  {
   "cell_type": "code",
   "execution_count": 18,
   "metadata": {},
   "outputs": [
    {
     "data": {
      "text/plain": [
       "[[t*v]]"
      ]
     },
     "execution_count": 18,
     "metadata": {},
     "output_type": "execute_result"
    }
   ],
   "source": [
    "d = phyfos.get('d')\n",
    "d"
   ]
  },
  {
   "cell_type": "code",
   "execution_count": 20,
   "metadata": {},
   "outputs": [
    {
     "data": {
      "text/plain": [
       "[[d/t], [a*t], [p/m]]"
      ]
     },
     "execution_count": 20,
     "metadata": {},
     "output_type": "execute_result"
    }
   ],
   "source": [
    "v = phyfos.get('v')\n",
    "v"
   ]
  },
  {
   "cell_type": "code",
   "execution_count": 22,
   "metadata": {},
   "outputs": [
    {
     "data": {
      "text/plain": [
       "[[a*t]]"
      ]
     },
     "execution_count": 22,
     "metadata": {},
     "output_type": "execute_result"
    }
   ],
   "source": [
    "v_as_a_function_of_a = phyfos.get('v', 'a')\n",
    "v_as_a_function_of_a"
   ]
  },
  {
   "cell_type": "code",
   "execution_count": 26,
   "metadata": {},
   "outputs": [
    {
     "data": {
      "text/plain": [
       "[[v/t]]"
      ]
     },
     "execution_count": 26,
     "metadata": {},
     "output_type": "execute_result"
    }
   ],
   "source": [
    "a_as_a_function_of_v = phyfos.get('a', 'v')\n",
    "a_as_a_function_of_v"
   ]
  },
  {
   "cell_type": "code",
   "execution_count": 24,
   "metadata": {},
   "outputs": [
    {
     "data": {
      "text/plain": [
       "[[d/t]]"
      ]
     },
     "execution_count": 24,
     "metadata": {},
     "output_type": "execute_result"
    }
   ],
   "source": [
    "v_as_a_function_of_t_d = phyfos.get('v', ['t','d'])\n",
    "v_as_a_function_of_t_d"
   ]
  },
  {
   "cell_type": "markdown",
   "metadata": {},
   "source": [
    "### Search by formula ID number\n",
    "    Each formula has a fixed id number that should not be changed. It is recomeneded to use this method when you know what formula to use in your code. It is faster than direct search, and the later code give you different result when the database is expanded or changed."
   ]
  },
  {
   "cell_type": "code",
   "execution_count": 28,
   "metadata": {},
   "outputs": [
    {
     "data": {
      "text/plain": [
       "[a*m]"
      ]
     },
     "execution_count": 28,
     "metadata": {},
     "output_type": "execute_result"
    }
   ],
   "source": [
    "f = phyfos.get('f', id=3)\n",
    "f"
   ]
  },
  {
   "cell_type": "code",
   "execution_count": 30,
   "metadata": {},
   "outputs": [
    {
     "data": {
      "text/plain": [
       "[f/a]"
      ]
     },
     "execution_count": 30,
     "metadata": {},
     "output_type": "execute_result"
    }
   ],
   "source": [
    "# Say you want \"m\" to be a function, you do not have to rewrite your formula again!\n",
    "m = phyfos.get('m', id=3)\n",
    "m"
   ]
  },
  {
   "cell_type": "code",
   "execution_count": 29,
   "metadata": {},
   "outputs": [
    {
     "data": {
      "text/plain": [
       "[f/m]"
      ]
     },
     "execution_count": 29,
     "metadata": {},
     "output_type": "execute_result"
    }
   ],
   "source": [
    "# Also for 'a'. This is very helpful when there is a mistake in the formula! You only \n",
    "#change it once in your database.\n",
    "a = phyfos.get('a', id=3)\n",
    "a"
   ]
  },
  {
   "cell_type": "markdown",
   "metadata": {},
   "source": [
    "### 2- Deriving formulas, by connection to variables through algabric substitutions\n",
    "    This is the most interesting part! It uses the full power of FormulaLab. FormulaLab uses some algorithms to find all possible paths (intermediate formulas/variables) between a function and a variable, and derive a new formula that connects the two of them and is not in the database. FormulaLab can do algebraic manibulations even integrals and derivatives!"
   ]
  },
  {
   "cell_type": "code",
   "execution_count": 9,
   "metadata": {},
   "outputs": [
    {
     "data": {
      "text/plain": [
       "[Acceleration*mass/charge,\n",
       " Electric_potential/(Acceleration*time**2),\n",
       " Acceleration*Electric_potential/Velocity**2]"
      ]
     },
     "execution_count": 9,
     "metadata": {},
     "output_type": "execute_result"
    }
   ],
   "source": [
    "Ef = phyfos.find('Electric_field', 'Acceleration')\n",
    "Ef"
   ]
  },
  {
   "cell_type": "code",
   "execution_count": 10,
   "metadata": {},
   "outputs": [
    {
     "name": "stdout",
     "output_type": "stream",
     "text": [
      "Acceleration⋅mass\n",
      "─────────────────\n",
      "      charge     \n"
     ]
    }
   ],
   "source": [
    "sympy.pretty_print(Ef[0])"
   ]
  },
  {
   "cell_type": "markdown",
   "metadata": {},
   "source": [
    "## 3- Converting formula expresion to a python function"
   ]
  },
  {
   "cell_type": "code",
   "execution_count": 11,
   "metadata": {},
   "outputs": [
    {
     "data": {
      "text/plain": [
       "25.0"
      ]
     },
     "execution_count": 11,
     "metadata": {},
     "output_type": "execute_result"
    }
   ],
   "source": [
    "Ef_func = phyfos.function(Ef[0])\n",
    "Ef_func(Acceleration=10, mass=5, charge=2)"
   ]
  },
  {
   "cell_type": "code",
   "execution_count": 12,
   "metadata": {
    "scrolled": true
   },
   "outputs": [
    {
     "data": {
      "text/plain": [
       "784.0"
      ]
     },
     "execution_count": 12,
     "metadata": {},
     "output_type": "execute_result"
    }
   ],
   "source": [
    "Weight_func = phyfos.get('Weight', function=True)\n",
    "Weight_func(Gravety=9.8, mass=80)"
   ]
  }
 ],
 "metadata": {
  "kernelspec": {
   "display_name": "Python 3",
   "language": "python",
   "name": "python3"
  },
  "language_info": {
   "codemirror_mode": {
    "name": "ipython",
    "version": 3
   },
   "file_extension": ".py",
   "mimetype": "text/x-python",
   "name": "python",
   "nbconvert_exporter": "python",
   "pygments_lexer": "ipython3",
   "version": "3.7.6"
  }
 },
 "nbformat": 4,
 "nbformat_minor": 4
}
